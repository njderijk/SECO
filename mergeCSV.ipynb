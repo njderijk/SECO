{
 "cells": [
  {
   "cell_type": "code",
   "execution_count": 2,
   "id": "5a16f320",
   "metadata": {},
   "outputs": [],
   "source": [
    "import os\n",
    "import glob\n",
    "import pandas as pd\n",
    "os.chdir(\"pop_search\")"
   ]
  },
  {
   "cell_type": "code",
   "execution_count": 4,
   "id": "e69901b2",
   "metadata": {},
   "outputs": [
    {
     "data": {
      "text/plain": [
       "['popularity_search_1.csv',\n",
       " 'popularity_search_10.csv',\n",
       " 'popularity_search_11.csv',\n",
       " 'popularity_search_12.csv',\n",
       " 'popularity_search_13.csv',\n",
       " 'popularity_search_14.csv',\n",
       " 'popularity_search_15.csv',\n",
       " 'popularity_search_16.csv',\n",
       " 'popularity_search_17.csv',\n",
       " 'popularity_search_18.csv',\n",
       " 'popularity_search_19.csv',\n",
       " 'popularity_search_2.csv',\n",
       " 'popularity_search_20.csv',\n",
       " 'popularity_search_21.csv',\n",
       " 'popularity_search_22.csv',\n",
       " 'popularity_search_23.csv',\n",
       " 'popularity_search_24.csv',\n",
       " 'popularity_search_3.csv',\n",
       " 'popularity_search_4.csv',\n",
       " 'popularity_search_5.csv',\n",
       " 'popularity_search_6.csv',\n",
       " 'popularity_search_7.csv',\n",
       " 'popularity_search_8.csv',\n",
       " 'popularity_search_9.csv']"
      ]
     },
     "execution_count": 4,
     "metadata": {},
     "output_type": "execute_result"
    }
   ],
   "source": [
    "extension = 'csv'\n",
    "all_filenames = [i for i in glob.glob('*.{}'.format(extension))]\n",
    "\n",
    "all_filenames"
   ]
  },
  {
   "cell_type": "code",
   "execution_count": 5,
   "id": "38b0de78",
   "metadata": {},
   "outputs": [],
   "source": [
    "combined_csv = pd.concat([pd.read_csv(f) for f in all_filenames ])\n",
    "#export to csv\n",
    "combined_csv.to_csv( \"combined_csv.csv\", index=False, encoding='utf-8-sig')"
   ]
  }
 ],
 "metadata": {
  "kernelspec": {
   "display_name": "Python 3 (ipykernel)",
   "language": "python",
   "name": "python3"
  },
  "language_info": {
   "codemirror_mode": {
    "name": "ipython",
    "version": 3
   },
   "file_extension": ".py",
   "mimetype": "text/x-python",
   "name": "python",
   "nbconvert_exporter": "python",
   "pygments_lexer": "ipython3",
   "version": "3.10.1"
  }
 },
 "nbformat": 4,
 "nbformat_minor": 5
}
