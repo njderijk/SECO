{
 "cells": [
  {
   "cell_type": "code",
   "execution_count": 1,
   "id": "ce0b7f57",
   "metadata": {},
   "outputs": [],
   "source": [
    "# Imports\n",
    "import matplotlib.pyplot as plt\n",
    "from sklearn.datasets import make_blobs\n",
    "import seaborn as sns\n",
    "import pandas as pd\n",
    "import numpy as np\n",
    "import matplotlib as mpl\n",
    "import sklearn as sk\n",
    "import scipy.stats as stats\n",
    "import researchpy as rp\n",
    "import statsmodels.api as sm\n",
    "from statsmodels.formula.api import ols\n",
    "\n",
    "from matplotlib import pyplot"
   ]
  },
  {
   "cell_type": "code",
   "execution_count": 2,
   "id": "b833e308",
   "metadata": {
    "scrolled": true
   },
   "outputs": [],
   "source": [
    "df_am = pd.read_csv('../cleanedAuthorMethodV3.csv')\n",
    "\n",
    "# df_am.head()"
   ]
  },
  {
   "cell_type": "code",
   "execution_count": 3,
   "id": "3bf96680",
   "metadata": {},
   "outputs": [
    {
     "data": {
      "text/html": [
       "<div>\n",
       "<style scoped>\n",
       "    .dataframe tbody tr th:only-of-type {\n",
       "        vertical-align: middle;\n",
       "    }\n",
       "\n",
       "    .dataframe tbody tr th {\n",
       "        vertical-align: top;\n",
       "    }\n",
       "\n",
       "    .dataframe thead th {\n",
       "        text-align: right;\n",
       "    }\n",
       "</style>\n",
       "<table border=\"1\" class=\"dataframe\">\n",
       "  <thead>\n",
       "    <tr style=\"text-align: right;\">\n",
       "      <th></th>\n",
       "      <th>Unnamed: 0</th>\n",
       "      <th>Unnamed: 0.1</th>\n",
       "      <th>Unnamed: 0.1.1</th>\n",
       "      <th>authorID</th>\n",
       "      <th>methodHash</th>\n",
       "      <th>projectID</th>\n",
       "      <th>projectVersion</th>\n",
       "    </tr>\n",
       "  </thead>\n",
       "  <tbody>\n",
       "    <tr>\n",
       "      <th>0</th>\n",
       "      <td>0</td>\n",
       "      <td>0</td>\n",
       "      <td>0</td>\n",
       "      <td>e157cee2-b5b5-2466-14a8-717e9de1ce4c</td>\n",
       "      <td>b8a899ee5f7c93361e215edf5be05462</td>\n",
       "      <td>3477431694</td>\n",
       "      <td>1273494526000</td>\n",
       "    </tr>\n",
       "    <tr>\n",
       "      <th>1</th>\n",
       "      <td>1</td>\n",
       "      <td>1</td>\n",
       "      <td>1</td>\n",
       "      <td>a0c11df7-5118-e7d6-59c3-65223bf5b5a0</td>\n",
       "      <td>64132196448efd90223a4f7f16f0ae25</td>\n",
       "      <td>1821731652</td>\n",
       "      <td>1275264487000</td>\n",
       "    </tr>\n",
       "    <tr>\n",
       "      <th>2</th>\n",
       "      <td>2</td>\n",
       "      <td>2</td>\n",
       "      <td>2</td>\n",
       "      <td>a0c11df7-5118-e7d6-59c3-65223bf5b5a0</td>\n",
       "      <td>b8a76bcb30cd6afc1476ad39fc355317</td>\n",
       "      <td>949829554</td>\n",
       "      <td>1275264520000</td>\n",
       "    </tr>\n",
       "    <tr>\n",
       "      <th>3</th>\n",
       "      <td>3</td>\n",
       "      <td>9</td>\n",
       "      <td>9</td>\n",
       "      <td>a0c11df7-5118-e7d6-59c3-65223bf5b5a0</td>\n",
       "      <td>165944a511b4539a285f269aaac95437</td>\n",
       "      <td>2915245721</td>\n",
       "      <td>1407941931000</td>\n",
       "    </tr>\n",
       "    <tr>\n",
       "      <th>4</th>\n",
       "      <td>4</td>\n",
       "      <td>11</td>\n",
       "      <td>11</td>\n",
       "      <td>a0c11df7-5118-e7d6-59c3-65223bf5b5a0</td>\n",
       "      <td>165944a511b4539a285f269aaac95437</td>\n",
       "      <td>3881672</td>\n",
       "      <td>1278425588000</td>\n",
       "    </tr>\n",
       "  </tbody>\n",
       "</table>\n",
       "</div>"
      ],
      "text/plain": [
       "   Unnamed: 0  Unnamed: 0.1  Unnamed: 0.1.1  \\\n",
       "0           0             0               0   \n",
       "1           1             1               1   \n",
       "2           2             2               2   \n",
       "3           3             9               9   \n",
       "4           4            11              11   \n",
       "\n",
       "                               authorID                        methodHash  \\\n",
       "0  e157cee2-b5b5-2466-14a8-717e9de1ce4c  b8a899ee5f7c93361e215edf5be05462   \n",
       "1  a0c11df7-5118-e7d6-59c3-65223bf5b5a0  64132196448efd90223a4f7f16f0ae25   \n",
       "2  a0c11df7-5118-e7d6-59c3-65223bf5b5a0  b8a76bcb30cd6afc1476ad39fc355317   \n",
       "3  a0c11df7-5118-e7d6-59c3-65223bf5b5a0  165944a511b4539a285f269aaac95437   \n",
       "4  a0c11df7-5118-e7d6-59c3-65223bf5b5a0  165944a511b4539a285f269aaac95437   \n",
       "\n",
       "    projectID  projectVersion  \n",
       "0  3477431694   1273494526000  \n",
       "1  1821731652   1275264487000  \n",
       "2   949829554   1275264520000  \n",
       "3  2915245721   1407941931000  \n",
       "4     3881672   1278425588000  "
      ]
     },
     "execution_count": 3,
     "metadata": {},
     "output_type": "execute_result"
    },
    {
     "data": {
      "text/plain": [
       "ff3554fd843dc740f7360616022bd985    2084\n",
       "c2b03688ce32f006496842ac3a4266de    2075\n",
       "467c0f83bceb7799d2604ea0bac04774    2067\n",
       "faaf1d96238e89053d70a7933fbd4de4    2056\n",
       "a5961b524e3b044f3fd0f64284d6591a    2051\n",
       "                                    ... \n",
       "10bd0e4320a3794cb3e492d1b6e5ad18       1\n",
       "1cbfbdd0ba1875dd060753df8df4fb51       1\n",
       "2d016daa4ac67b3e8b8994e9e167f847       1\n",
       "50f7bfdfd5a77d0096326af141761af8       1\n",
       "4745babcb414237f3e8f34a85d64784f       1\n",
       "Name: methodHash, Length: 4294521, dtype: int64"
      ]
     },
     "execution_count": 3,
     "metadata": {},
     "output_type": "execute_result"
    }
   ],
   "source": [
    "df_am.head()\n",
    "\n",
    "df_am['methodHash'].value_counts()"
   ]
  },
  {
   "cell_type": "code",
   "execution_count": 4,
   "id": "0f63580c",
   "metadata": {
    "scrolled": true
   },
   "outputs": [],
   "source": [
    "# small_df = df.sample(5000)\n",
    "\n",
    "# small_df"
   ]
  },
  {
   "cell_type": "code",
   "execution_count": 5,
   "id": "75ddd2e9",
   "metadata": {},
   "outputs": [],
   "source": [
    "# lonewolfs = pd.read_csv('lonewolfsV3.csv')\n",
    "# lonewolfs = lonewolfs.rename(columns={\"author\": \"authorID\"})\n",
    "\n",
    "# lonewolfs\n",
    "# lonewolfs['authorId']"
   ]
  },
  {
   "cell_type": "code",
   "execution_count": 6,
   "id": "66abbd6e",
   "metadata": {
    "scrolled": true
   },
   "outputs": [],
   "source": [
    "# small_df.loc[small_df['authorID'].isin(lonewolfs['authorID']]\n",
    "                                       \n",
    "df_am = df_am.drop(columns=['Unnamed: 0', 'Unnamed: 0.1', 'Unnamed: 0.1.1'])"
   ]
  },
  {
   "cell_type": "code",
   "execution_count": 7,
   "id": "c109b46b",
   "metadata": {},
   "outputs": [
    {
     "data": {
      "text/html": [
       "<div>\n",
       "<style scoped>\n",
       "    .dataframe tbody tr th:only-of-type {\n",
       "        vertical-align: middle;\n",
       "    }\n",
       "\n",
       "    .dataframe tbody tr th {\n",
       "        vertical-align: top;\n",
       "    }\n",
       "\n",
       "    .dataframe thead th {\n",
       "        text-align: right;\n",
       "    }\n",
       "</style>\n",
       "<table border=\"1\" class=\"dataframe\">\n",
       "  <thead>\n",
       "    <tr style=\"text-align: right;\">\n",
       "      <th></th>\n",
       "      <th>authorID</th>\n",
       "      <th>methodHash</th>\n",
       "      <th>projectID</th>\n",
       "      <th>projectVersion</th>\n",
       "    </tr>\n",
       "  </thead>\n",
       "  <tbody>\n",
       "    <tr>\n",
       "      <th>0</th>\n",
       "      <td>e157cee2-b5b5-2466-14a8-717e9de1ce4c</td>\n",
       "      <td>b8a899ee5f7c93361e215edf5be05462</td>\n",
       "      <td>3477431694</td>\n",
       "      <td>1273494526000</td>\n",
       "    </tr>\n",
       "    <tr>\n",
       "      <th>1</th>\n",
       "      <td>a0c11df7-5118-e7d6-59c3-65223bf5b5a0</td>\n",
       "      <td>64132196448efd90223a4f7f16f0ae25</td>\n",
       "      <td>1821731652</td>\n",
       "      <td>1275264487000</td>\n",
       "    </tr>\n",
       "    <tr>\n",
       "      <th>2</th>\n",
       "      <td>a0c11df7-5118-e7d6-59c3-65223bf5b5a0</td>\n",
       "      <td>b8a76bcb30cd6afc1476ad39fc355317</td>\n",
       "      <td>949829554</td>\n",
       "      <td>1275264520000</td>\n",
       "    </tr>\n",
       "    <tr>\n",
       "      <th>3</th>\n",
       "      <td>a0c11df7-5118-e7d6-59c3-65223bf5b5a0</td>\n",
       "      <td>165944a511b4539a285f269aaac95437</td>\n",
       "      <td>2915245721</td>\n",
       "      <td>1407941931000</td>\n",
       "    </tr>\n",
       "    <tr>\n",
       "      <th>4</th>\n",
       "      <td>a0c11df7-5118-e7d6-59c3-65223bf5b5a0</td>\n",
       "      <td>165944a511b4539a285f269aaac95437</td>\n",
       "      <td>3881672</td>\n",
       "      <td>1278425588000</td>\n",
       "    </tr>\n",
       "    <tr>\n",
       "      <th>...</th>\n",
       "      <td>...</td>\n",
       "      <td>...</td>\n",
       "      <td>...</td>\n",
       "      <td>...</td>\n",
       "    </tr>\n",
       "    <tr>\n",
       "      <th>8827402</th>\n",
       "      <td>1ce151e9-89e4-c24e-19f4-a2528a2da121</td>\n",
       "      <td>37204df19ded9a9e3d8d982be9e9ea01</td>\n",
       "      <td>352558408</td>\n",
       "      <td>1455323653</td>\n",
       "    </tr>\n",
       "    <tr>\n",
       "      <th>8827403</th>\n",
       "      <td>1ce151e9-89e4-c24e-19f4-a2528a2da121</td>\n",
       "      <td>431f4e8f211d5f9a56fae1a0e8d47320</td>\n",
       "      <td>352558408</td>\n",
       "      <td>1426521636</td>\n",
       "    </tr>\n",
       "    <tr>\n",
       "      <th>8827404</th>\n",
       "      <td>1ce151e9-89e4-c24e-19f4-a2528a2da121</td>\n",
       "      <td>0ad0aaa9d2d046bfe7dc3aafc5f3566e</td>\n",
       "      <td>352558408</td>\n",
       "      <td>1444969846</td>\n",
       "    </tr>\n",
       "    <tr>\n",
       "      <th>8827405</th>\n",
       "      <td>edf67142-19da-8f47-ab69-6c1b37b94010</td>\n",
       "      <td>e606abc81be49f08071fc04e3386ad47</td>\n",
       "      <td>2011939588</td>\n",
       "      <td>1400533413</td>\n",
       "    </tr>\n",
       "    <tr>\n",
       "      <th>8827406</th>\n",
       "      <td>edf67142-19da-8f47-ab69-6c1b37b94010</td>\n",
       "      <td>1946c80c523d99b5f582dac22377a522</td>\n",
       "      <td>1609796790</td>\n",
       "      <td>1306894266000</td>\n",
       "    </tr>\n",
       "  </tbody>\n",
       "</table>\n",
       "<p>8827407 rows × 4 columns</p>\n",
       "</div>"
      ],
      "text/plain": [
       "                                     authorID  \\\n",
       "0        e157cee2-b5b5-2466-14a8-717e9de1ce4c   \n",
       "1        a0c11df7-5118-e7d6-59c3-65223bf5b5a0   \n",
       "2        a0c11df7-5118-e7d6-59c3-65223bf5b5a0   \n",
       "3        a0c11df7-5118-e7d6-59c3-65223bf5b5a0   \n",
       "4        a0c11df7-5118-e7d6-59c3-65223bf5b5a0   \n",
       "...                                       ...   \n",
       "8827402  1ce151e9-89e4-c24e-19f4-a2528a2da121   \n",
       "8827403  1ce151e9-89e4-c24e-19f4-a2528a2da121   \n",
       "8827404  1ce151e9-89e4-c24e-19f4-a2528a2da121   \n",
       "8827405  edf67142-19da-8f47-ab69-6c1b37b94010   \n",
       "8827406  edf67142-19da-8f47-ab69-6c1b37b94010   \n",
       "\n",
       "                               methodHash   projectID  projectVersion  \n",
       "0        b8a899ee5f7c93361e215edf5be05462  3477431694   1273494526000  \n",
       "1        64132196448efd90223a4f7f16f0ae25  1821731652   1275264487000  \n",
       "2        b8a76bcb30cd6afc1476ad39fc355317   949829554   1275264520000  \n",
       "3        165944a511b4539a285f269aaac95437  2915245721   1407941931000  \n",
       "4        165944a511b4539a285f269aaac95437     3881672   1278425588000  \n",
       "...                                   ...         ...             ...  \n",
       "8827402  37204df19ded9a9e3d8d982be9e9ea01   352558408      1455323653  \n",
       "8827403  431f4e8f211d5f9a56fae1a0e8d47320   352558408      1426521636  \n",
       "8827404  0ad0aaa9d2d046bfe7dc3aafc5f3566e   352558408      1444969846  \n",
       "8827405  e606abc81be49f08071fc04e3386ad47  2011939588      1400533413  \n",
       "8827406  1946c80c523d99b5f582dac22377a522  1609796790   1306894266000  \n",
       "\n",
       "[8827407 rows x 4 columns]"
      ]
     },
     "execution_count": 7,
     "metadata": {},
     "output_type": "execute_result"
    }
   ],
   "source": [
    "df_am\n",
    "\n",
    "# df_am.loc[df_am['authorID'].isin(lonewolfs['authorID'])]"
   ]
  },
  {
   "cell_type": "code",
   "execution_count": 8,
   "id": "fe636545",
   "metadata": {},
   "outputs": [
    {
     "data": {
      "text/html": [
       "<div>\n",
       "<style scoped>\n",
       "    .dataframe tbody tr th:only-of-type {\n",
       "        vertical-align: middle;\n",
       "    }\n",
       "\n",
       "    .dataframe tbody tr th {\n",
       "        vertical-align: top;\n",
       "    }\n",
       "\n",
       "    .dataframe thead th {\n",
       "        text-align: right;\n",
       "    }\n",
       "</style>\n",
       "<table border=\"1\" class=\"dataframe\">\n",
       "  <thead>\n",
       "    <tr style=\"text-align: right;\">\n",
       "      <th></th>\n",
       "      <th>authorID</th>\n",
       "      <th>methodHash</th>\n",
       "      <th>projectID</th>\n",
       "      <th>projectVersion</th>\n",
       "    </tr>\n",
       "  </thead>\n",
       "  <tbody>\n",
       "    <tr>\n",
       "      <th>0</th>\n",
       "      <td>e157cee2-b5b5-2466-14a8-717e9de1ce4c</td>\n",
       "      <td>b8a899ee5f7c93361e215edf5be05462</td>\n",
       "      <td>3477431694</td>\n",
       "      <td>1273494526000</td>\n",
       "    </tr>\n",
       "    <tr>\n",
       "      <th>1</th>\n",
       "      <td>a0c11df7-5118-e7d6-59c3-65223bf5b5a0</td>\n",
       "      <td>64132196448efd90223a4f7f16f0ae25</td>\n",
       "      <td>1821731652</td>\n",
       "      <td>1275264487000</td>\n",
       "    </tr>\n",
       "    <tr>\n",
       "      <th>2</th>\n",
       "      <td>a0c11df7-5118-e7d6-59c3-65223bf5b5a0</td>\n",
       "      <td>b8a76bcb30cd6afc1476ad39fc355317</td>\n",
       "      <td>949829554</td>\n",
       "      <td>1275264520000</td>\n",
       "    </tr>\n",
       "    <tr>\n",
       "      <th>3</th>\n",
       "      <td>a0c11df7-5118-e7d6-59c3-65223bf5b5a0</td>\n",
       "      <td>165944a511b4539a285f269aaac95437</td>\n",
       "      <td>2915245721</td>\n",
       "      <td>1407941931000</td>\n",
       "    </tr>\n",
       "    <tr>\n",
       "      <th>4</th>\n",
       "      <td>a0c11df7-5118-e7d6-59c3-65223bf5b5a0</td>\n",
       "      <td>165944a511b4539a285f269aaac95437</td>\n",
       "      <td>3881672</td>\n",
       "      <td>1278425588000</td>\n",
       "    </tr>\n",
       "    <tr>\n",
       "      <th>...</th>\n",
       "      <td>...</td>\n",
       "      <td>...</td>\n",
       "      <td>...</td>\n",
       "      <td>...</td>\n",
       "    </tr>\n",
       "    <tr>\n",
       "      <th>8827402</th>\n",
       "      <td>1ce151e9-89e4-c24e-19f4-a2528a2da121</td>\n",
       "      <td>37204df19ded9a9e3d8d982be9e9ea01</td>\n",
       "      <td>352558408</td>\n",
       "      <td>1455323653</td>\n",
       "    </tr>\n",
       "    <tr>\n",
       "      <th>8827403</th>\n",
       "      <td>1ce151e9-89e4-c24e-19f4-a2528a2da121</td>\n",
       "      <td>431f4e8f211d5f9a56fae1a0e8d47320</td>\n",
       "      <td>352558408</td>\n",
       "      <td>1426521636</td>\n",
       "    </tr>\n",
       "    <tr>\n",
       "      <th>8827404</th>\n",
       "      <td>1ce151e9-89e4-c24e-19f4-a2528a2da121</td>\n",
       "      <td>0ad0aaa9d2d046bfe7dc3aafc5f3566e</td>\n",
       "      <td>352558408</td>\n",
       "      <td>1444969846</td>\n",
       "    </tr>\n",
       "    <tr>\n",
       "      <th>8827405</th>\n",
       "      <td>edf67142-19da-8f47-ab69-6c1b37b94010</td>\n",
       "      <td>e606abc81be49f08071fc04e3386ad47</td>\n",
       "      <td>2011939588</td>\n",
       "      <td>1400533413</td>\n",
       "    </tr>\n",
       "    <tr>\n",
       "      <th>8827406</th>\n",
       "      <td>edf67142-19da-8f47-ab69-6c1b37b94010</td>\n",
       "      <td>1946c80c523d99b5f582dac22377a522</td>\n",
       "      <td>1609796790</td>\n",
       "      <td>1306894266000</td>\n",
       "    </tr>\n",
       "  </tbody>\n",
       "</table>\n",
       "<p>8825161 rows × 4 columns</p>\n",
       "</div>"
      ],
      "text/plain": [
       "                                     authorID  \\\n",
       "0        e157cee2-b5b5-2466-14a8-717e9de1ce4c   \n",
       "1        a0c11df7-5118-e7d6-59c3-65223bf5b5a0   \n",
       "2        a0c11df7-5118-e7d6-59c3-65223bf5b5a0   \n",
       "3        a0c11df7-5118-e7d6-59c3-65223bf5b5a0   \n",
       "4        a0c11df7-5118-e7d6-59c3-65223bf5b5a0   \n",
       "...                                       ...   \n",
       "8827402  1ce151e9-89e4-c24e-19f4-a2528a2da121   \n",
       "8827403  1ce151e9-89e4-c24e-19f4-a2528a2da121   \n",
       "8827404  1ce151e9-89e4-c24e-19f4-a2528a2da121   \n",
       "8827405  edf67142-19da-8f47-ab69-6c1b37b94010   \n",
       "8827406  edf67142-19da-8f47-ab69-6c1b37b94010   \n",
       "\n",
       "                               methodHash   projectID  projectVersion  \n",
       "0        b8a899ee5f7c93361e215edf5be05462  3477431694   1273494526000  \n",
       "1        64132196448efd90223a4f7f16f0ae25  1821731652   1275264487000  \n",
       "2        b8a76bcb30cd6afc1476ad39fc355317   949829554   1275264520000  \n",
       "3        165944a511b4539a285f269aaac95437  2915245721   1407941931000  \n",
       "4        165944a511b4539a285f269aaac95437     3881672   1278425588000  \n",
       "...                                   ...         ...             ...  \n",
       "8827402  37204df19ded9a9e3d8d982be9e9ea01   352558408      1455323653  \n",
       "8827403  431f4e8f211d5f9a56fae1a0e8d47320   352558408      1426521636  \n",
       "8827404  0ad0aaa9d2d046bfe7dc3aafc5f3566e   352558408      1444969846  \n",
       "8827405  e606abc81be49f08071fc04e3386ad47  2011939588      1400533413  \n",
       "8827406  1946c80c523d99b5f582dac22377a522  1609796790   1306894266000  \n",
       "\n",
       "[8825161 rows x 4 columns]"
      ]
     },
     "execution_count": 8,
     "metadata": {},
     "output_type": "execute_result"
    },
    {
     "data": {
      "text/plain": [
       "44"
      ]
     },
     "execution_count": 8,
     "metadata": {},
     "output_type": "execute_result"
    },
    {
     "name": "stdout",
     "output_type": "stream",
     "text": [
      "1543140183    594\n",
      "152731496     582\n",
      "435841749     436\n",
      "2678000144    364\n",
      "1663344210    331\n",
      "             ... \n",
      "2140411016      2\n",
      "129870766       2\n",
      "2661053230      2\n",
      "1530367737      2\n",
      "3582037101      2\n",
      "Name: projectID, Length: 9543, dtype: int64\n"
     ]
    }
   ],
   "source": [
    "v = df_am.projectID.value_counts()\n",
    "df_am[df_am.projectID.isin(v.index[v.gt(1)])]\n",
    "\n",
    "# drop duplicate rows based on authorID & projetId\n",
    "projects = df_am.drop_duplicates(subset=['authorID', 'projectID'])\n",
    "\n",
    "projects = projects[projects.groupby('projectID')['projectID'].transform('size') > 1]\n",
    "\n",
    "f=open('projects_over2.txt','w')\n",
    "s1='\\n'.join(projects)\n",
    "f.write(s1)\n",
    "f.close()\n",
    "\n",
    "print(projects['projectID'].value_counts())"
   ]
  },
  {
   "cell_type": "code",
   "execution_count": 9,
   "id": "2a49e4a3",
   "metadata": {
    "scrolled": true
   },
   "outputs": [],
   "source": [
    "df_author_project_methods = df_am.groupby(['authorID', 'projectID'])['methodHash'].nunique()"
   ]
  },
  {
   "cell_type": "code",
   "execution_count": 10,
   "id": "5856176c",
   "metadata": {},
   "outputs": [
    {
     "data": {
      "text/plain": [
       "authorID                              projectID \n",
       "0000af9f-a905-451b-97eb-11659ec418ae  202844298      34\n",
       "0009b48d-edbe-7935-6c54-24943485e7d3  408273168       1\n",
       "                                      1576574084      1\n",
       "                                      3438476340      1\n",
       "000d68e3-5cfd-ac90-4cfb-6ca73a5f0a2b  2174734165      3\n",
       "                                                   ... \n",
       "fffe4bb8-09db-9b70-4379-1ffa9496d82b  1867422113    153\n",
       "                                      1947715611      5\n",
       "                                      2688608124     13\n",
       "fffefb92-0dfd-9853-c5fe-7ea975f902d3  1841029056     10\n",
       "ffff986d-2bb8-8e1a-5792-943e77b618b1  648386215       7\n",
       "Name: methodHash, Length: 92029, dtype: int64"
      ]
     },
     "execution_count": 10,
     "metadata": {},
     "output_type": "execute_result"
    }
   ],
   "source": [
    "df_author_project_methods"
   ]
  },
  {
   "cell_type": "code",
   "execution_count": 11,
   "id": "8f62651c",
   "metadata": {},
   "outputs": [
    {
     "data": {
      "text/plain": [
       "41969"
      ]
     },
     "execution_count": 11,
     "metadata": {},
     "output_type": "execute_result"
    }
   ],
   "source": [
    "df_author_project_methods.max()"
   ]
  },
  {
   "cell_type": "code",
   "execution_count": 12,
   "id": "468fbcdd",
   "metadata": {},
   "outputs": [
    {
     "data": {
      "text/html": [
       "<div>\n",
       "<style scoped>\n",
       "    .dataframe tbody tr th:only-of-type {\n",
       "        vertical-align: middle;\n",
       "    }\n",
       "\n",
       "    .dataframe tbody tr th {\n",
       "        vertical-align: top;\n",
       "    }\n",
       "\n",
       "    .dataframe thead th {\n",
       "        text-align: right;\n",
       "    }\n",
       "</style>\n",
       "<table border=\"1\" class=\"dataframe\">\n",
       "  <thead>\n",
       "    <tr style=\"text-align: right;\">\n",
       "      <th></th>\n",
       "      <th>authorID</th>\n",
       "      <th>projectID</th>\n",
       "      <th>methodHash</th>\n",
       "    </tr>\n",
       "  </thead>\n",
       "  <tbody>\n",
       "    <tr>\n",
       "      <th>0</th>\n",
       "      <td>0000af9f-a905-451b-97eb-11659ec418ae</td>\n",
       "      <td>202844298</td>\n",
       "      <td>34</td>\n",
       "    </tr>\n",
       "    <tr>\n",
       "      <th>1</th>\n",
       "      <td>0009b48d-edbe-7935-6c54-24943485e7d3</td>\n",
       "      <td>408273168</td>\n",
       "      <td>1</td>\n",
       "    </tr>\n",
       "    <tr>\n",
       "      <th>2</th>\n",
       "      <td>0009b48d-edbe-7935-6c54-24943485e7d3</td>\n",
       "      <td>1576574084</td>\n",
       "      <td>1</td>\n",
       "    </tr>\n",
       "    <tr>\n",
       "      <th>3</th>\n",
       "      <td>0009b48d-edbe-7935-6c54-24943485e7d3</td>\n",
       "      <td>3438476340</td>\n",
       "      <td>1</td>\n",
       "    </tr>\n",
       "    <tr>\n",
       "      <th>4</th>\n",
       "      <td>000d68e3-5cfd-ac90-4cfb-6ca73a5f0a2b</td>\n",
       "      <td>2174734165</td>\n",
       "      <td>3</td>\n",
       "    </tr>\n",
       "  </tbody>\n",
       "</table>\n",
       "</div>"
      ],
      "text/plain": [
       "                               authorID   projectID  methodHash\n",
       "0  0000af9f-a905-451b-97eb-11659ec418ae   202844298          34\n",
       "1  0009b48d-edbe-7935-6c54-24943485e7d3   408273168           1\n",
       "2  0009b48d-edbe-7935-6c54-24943485e7d3  1576574084           1\n",
       "3  0009b48d-edbe-7935-6c54-24943485e7d3  3438476340           1\n",
       "4  000d68e3-5cfd-ac90-4cfb-6ca73a5f0a2b  2174734165           3"
      ]
     },
     "execution_count": 12,
     "metadata": {},
     "output_type": "execute_result"
    }
   ],
   "source": [
    "# df_apm = pd.DataFrame(df_author_project_methods)\n",
    "\n",
    "df_apm = pd.Series.to_frame(df_author_project_methods).reset_index()\n",
    "\n",
    "df_apm.head(5)"
   ]
  },
  {
   "cell_type": "code",
   "execution_count": 13,
   "id": "96a3d43b",
   "metadata": {},
   "outputs": [],
   "source": [
    "df_apm = df_apm[df_apm.methodHash > 2]"
   ]
  },
  {
   "cell_type": "code",
   "execution_count": 14,
   "id": "5d19d1a3",
   "metadata": {
    "scrolled": false
   },
   "outputs": [
    {
     "data": {
      "text/html": [
       "<div>\n",
       "<style scoped>\n",
       "    .dataframe tbody tr th:only-of-type {\n",
       "        vertical-align: middle;\n",
       "    }\n",
       "\n",
       "    .dataframe tbody tr th {\n",
       "        vertical-align: top;\n",
       "    }\n",
       "\n",
       "    .dataframe thead th {\n",
       "        text-align: right;\n",
       "    }\n",
       "</style>\n",
       "<table border=\"1\" class=\"dataframe\">\n",
       "  <thead>\n",
       "    <tr style=\"text-align: right;\">\n",
       "      <th></th>\n",
       "      <th>authorID</th>\n",
       "      <th>projectID</th>\n",
       "      <th>methodHash</th>\n",
       "    </tr>\n",
       "  </thead>\n",
       "  <tbody>\n",
       "    <tr>\n",
       "      <th>0</th>\n",
       "      <td>0000af9f-a905-451b-97eb-11659ec418ae</td>\n",
       "      <td>202844298</td>\n",
       "      <td>34</td>\n",
       "    </tr>\n",
       "    <tr>\n",
       "      <th>4</th>\n",
       "      <td>000d68e3-5cfd-ac90-4cfb-6ca73a5f0a2b</td>\n",
       "      <td>2174734165</td>\n",
       "      <td>3</td>\n",
       "    </tr>\n",
       "    <tr>\n",
       "      <th>5</th>\n",
       "      <td>000dff81-1f83-c6b8-7b91-c9427d763ce2</td>\n",
       "      <td>441741744</td>\n",
       "      <td>370</td>\n",
       "    </tr>\n",
       "    <tr>\n",
       "      <th>6</th>\n",
       "      <td>000dff81-1f83-c6b8-7b91-c9427d763ce2</td>\n",
       "      <td>3247033425</td>\n",
       "      <td>496</td>\n",
       "    </tr>\n",
       "    <tr>\n",
       "      <th>7</th>\n",
       "      <td>000e1a5c-2718-849c-34be-f3f4b549431e</td>\n",
       "      <td>1819299100</td>\n",
       "      <td>3</td>\n",
       "    </tr>\n",
       "    <tr>\n",
       "      <th>10</th>\n",
       "      <td>001783cd-e148-690c-df95-af9074e62a30</td>\n",
       "      <td>1136154838</td>\n",
       "      <td>10</td>\n",
       "    </tr>\n",
       "    <tr>\n",
       "      <th>11</th>\n",
       "      <td>001783cd-e148-690c-df95-af9074e62a30</td>\n",
       "      <td>1731824662</td>\n",
       "      <td>19</td>\n",
       "    </tr>\n",
       "  </tbody>\n",
       "</table>\n",
       "</div>"
      ],
      "text/plain": [
       "                                authorID   projectID  methodHash\n",
       "0   0000af9f-a905-451b-97eb-11659ec418ae   202844298          34\n",
       "4   000d68e3-5cfd-ac90-4cfb-6ca73a5f0a2b  2174734165           3\n",
       "5   000dff81-1f83-c6b8-7b91-c9427d763ce2   441741744         370\n",
       "6   000dff81-1f83-c6b8-7b91-c9427d763ce2  3247033425         496\n",
       "7   000e1a5c-2718-849c-34be-f3f4b549431e  1819299100           3\n",
       "10  001783cd-e148-690c-df95-af9074e62a30  1136154838          10\n",
       "11  001783cd-e148-690c-df95-af9074e62a30  1731824662          19"
      ]
     },
     "execution_count": 14,
     "metadata": {},
     "output_type": "execute_result"
    }
   ],
   "source": [
    "df_apm.head(7)"
   ]
  },
  {
   "cell_type": "code",
   "execution_count": 15,
   "id": "e862f88e",
   "metadata": {
    "scrolled": false
   },
   "outputs": [
    {
     "ename": "KeyError",
     "evalue": "'methodsWritten'",
     "output_type": "error",
     "traceback": [
      "\u001b[1;31m---------------------------------------------------------------------------\u001b[0m",
      "\u001b[1;31mKeyError\u001b[0m                                  Traceback (most recent call last)",
      "\u001b[1;32m~\\AppData\\Local\\Programs\\Python\\Python310\\lib\\site-packages\\pandas\\core\\indexes\\base.py\u001b[0m in \u001b[0;36mget_loc\u001b[1;34m(self, key, method, tolerance)\u001b[0m\n\u001b[0;32m   3360\u001b[0m             \u001b[1;32mtry\u001b[0m\u001b[1;33m:\u001b[0m\u001b[1;33m\u001b[0m\u001b[1;33m\u001b[0m\u001b[0m\n\u001b[1;32m-> 3361\u001b[1;33m                 \u001b[1;32mreturn\u001b[0m \u001b[0mself\u001b[0m\u001b[1;33m.\u001b[0m\u001b[0m_engine\u001b[0m\u001b[1;33m.\u001b[0m\u001b[0mget_loc\u001b[0m\u001b[1;33m(\u001b[0m\u001b[0mcasted_key\u001b[0m\u001b[1;33m)\u001b[0m\u001b[1;33m\u001b[0m\u001b[1;33m\u001b[0m\u001b[0m\n\u001b[0m\u001b[0;32m   3362\u001b[0m             \u001b[1;32mexcept\u001b[0m \u001b[0mKeyError\u001b[0m \u001b[1;32mas\u001b[0m \u001b[0merr\u001b[0m\u001b[1;33m:\u001b[0m\u001b[1;33m\u001b[0m\u001b[1;33m\u001b[0m\u001b[0m\n",
      "\u001b[1;32m~\\AppData\\Local\\Programs\\Python\\Python310\\lib\\site-packages\\pandas\\_libs\\index.pyx\u001b[0m in \u001b[0;36mpandas._libs.index.IndexEngine.get_loc\u001b[1;34m()\u001b[0m\n",
      "\u001b[1;32m~\\AppData\\Local\\Programs\\Python\\Python310\\lib\\site-packages\\pandas\\_libs\\index.pyx\u001b[0m in \u001b[0;36mpandas._libs.index.IndexEngine.get_loc\u001b[1;34m()\u001b[0m\n",
      "\u001b[1;32mpandas\\_libs\\hashtable_class_helper.pxi\u001b[0m in \u001b[0;36mpandas._libs.hashtable.PyObjectHashTable.get_item\u001b[1;34m()\u001b[0m\n",
      "\u001b[1;32mpandas\\_libs\\hashtable_class_helper.pxi\u001b[0m in \u001b[0;36mpandas._libs.hashtable.PyObjectHashTable.get_item\u001b[1;34m()\u001b[0m\n",
      "\u001b[1;31mKeyError\u001b[0m: 'methodsWritten'",
      "\nThe above exception was the direct cause of the following exception:\n",
      "\u001b[1;31mKeyError\u001b[0m                                  Traceback (most recent call last)",
      "\u001b[1;32mC:\\Users\\NOUDJA~1\\AppData\\Local\\Temp/ipykernel_9920/104539645.py\u001b[0m in \u001b[0;36m<module>\u001b[1;34m\u001b[0m\n\u001b[1;32m----> 1\u001b[1;33m \u001b[0mdf_apm\u001b[0m\u001b[1;33m[\u001b[0m\u001b[1;34m'methodsWritten'\u001b[0m\u001b[1;33m]\u001b[0m\u001b[1;33m.\u001b[0m\u001b[0mwhere\u001b[0m\u001b[1;33m(\u001b[0m\u001b[0mdf_apm\u001b[0m\u001b[1;33m[\u001b[0m\u001b[1;34m'methodsWritten'\u001b[0m\u001b[1;33m]\u001b[0m \u001b[1;33m==\u001b[0m \u001b[1;36m41969\u001b[0m\u001b[1;33m)\u001b[0m\u001b[1;33m.\u001b[0m\u001b[0mdropna\u001b[0m\u001b[1;33m(\u001b[0m\u001b[1;33m)\u001b[0m\u001b[1;33m\u001b[0m\u001b[1;33m\u001b[0m\u001b[0m\n\u001b[0m",
      "\u001b[1;32m~\\AppData\\Local\\Programs\\Python\\Python310\\lib\\site-packages\\pandas\\core\\frame.py\u001b[0m in \u001b[0;36m__getitem__\u001b[1;34m(self, key)\u001b[0m\n\u001b[0;32m   3456\u001b[0m             \u001b[1;32mif\u001b[0m \u001b[0mself\u001b[0m\u001b[1;33m.\u001b[0m\u001b[0mcolumns\u001b[0m\u001b[1;33m.\u001b[0m\u001b[0mnlevels\u001b[0m \u001b[1;33m>\u001b[0m \u001b[1;36m1\u001b[0m\u001b[1;33m:\u001b[0m\u001b[1;33m\u001b[0m\u001b[1;33m\u001b[0m\u001b[0m\n\u001b[0;32m   3457\u001b[0m                 \u001b[1;32mreturn\u001b[0m \u001b[0mself\u001b[0m\u001b[1;33m.\u001b[0m\u001b[0m_getitem_multilevel\u001b[0m\u001b[1;33m(\u001b[0m\u001b[0mkey\u001b[0m\u001b[1;33m)\u001b[0m\u001b[1;33m\u001b[0m\u001b[1;33m\u001b[0m\u001b[0m\n\u001b[1;32m-> 3458\u001b[1;33m             \u001b[0mindexer\u001b[0m \u001b[1;33m=\u001b[0m \u001b[0mself\u001b[0m\u001b[1;33m.\u001b[0m\u001b[0mcolumns\u001b[0m\u001b[1;33m.\u001b[0m\u001b[0mget_loc\u001b[0m\u001b[1;33m(\u001b[0m\u001b[0mkey\u001b[0m\u001b[1;33m)\u001b[0m\u001b[1;33m\u001b[0m\u001b[1;33m\u001b[0m\u001b[0m\n\u001b[0m\u001b[0;32m   3459\u001b[0m             \u001b[1;32mif\u001b[0m \u001b[0mis_integer\u001b[0m\u001b[1;33m(\u001b[0m\u001b[0mindexer\u001b[0m\u001b[1;33m)\u001b[0m\u001b[1;33m:\u001b[0m\u001b[1;33m\u001b[0m\u001b[1;33m\u001b[0m\u001b[0m\n\u001b[0;32m   3460\u001b[0m                 \u001b[0mindexer\u001b[0m \u001b[1;33m=\u001b[0m \u001b[1;33m[\u001b[0m\u001b[0mindexer\u001b[0m\u001b[1;33m]\u001b[0m\u001b[1;33m\u001b[0m\u001b[1;33m\u001b[0m\u001b[0m\n",
      "\u001b[1;32m~\\AppData\\Local\\Programs\\Python\\Python310\\lib\\site-packages\\pandas\\core\\indexes\\base.py\u001b[0m in \u001b[0;36mget_loc\u001b[1;34m(self, key, method, tolerance)\u001b[0m\n\u001b[0;32m   3361\u001b[0m                 \u001b[1;32mreturn\u001b[0m \u001b[0mself\u001b[0m\u001b[1;33m.\u001b[0m\u001b[0m_engine\u001b[0m\u001b[1;33m.\u001b[0m\u001b[0mget_loc\u001b[0m\u001b[1;33m(\u001b[0m\u001b[0mcasted_key\u001b[0m\u001b[1;33m)\u001b[0m\u001b[1;33m\u001b[0m\u001b[1;33m\u001b[0m\u001b[0m\n\u001b[0;32m   3362\u001b[0m             \u001b[1;32mexcept\u001b[0m \u001b[0mKeyError\u001b[0m \u001b[1;32mas\u001b[0m \u001b[0merr\u001b[0m\u001b[1;33m:\u001b[0m\u001b[1;33m\u001b[0m\u001b[1;33m\u001b[0m\u001b[0m\n\u001b[1;32m-> 3363\u001b[1;33m                 \u001b[1;32mraise\u001b[0m \u001b[0mKeyError\u001b[0m\u001b[1;33m(\u001b[0m\u001b[0mkey\u001b[0m\u001b[1;33m)\u001b[0m \u001b[1;32mfrom\u001b[0m \u001b[0merr\u001b[0m\u001b[1;33m\u001b[0m\u001b[1;33m\u001b[0m\u001b[0m\n\u001b[0m\u001b[0;32m   3364\u001b[0m \u001b[1;33m\u001b[0m\u001b[0m\n\u001b[0;32m   3365\u001b[0m         \u001b[1;32mif\u001b[0m \u001b[0mis_scalar\u001b[0m\u001b[1;33m(\u001b[0m\u001b[0mkey\u001b[0m\u001b[1;33m)\u001b[0m \u001b[1;32mand\u001b[0m \u001b[0misna\u001b[0m\u001b[1;33m(\u001b[0m\u001b[0mkey\u001b[0m\u001b[1;33m)\u001b[0m \u001b[1;32mand\u001b[0m \u001b[1;32mnot\u001b[0m \u001b[0mself\u001b[0m\u001b[1;33m.\u001b[0m\u001b[0mhasnans\u001b[0m\u001b[1;33m:\u001b[0m\u001b[1;33m\u001b[0m\u001b[1;33m\u001b[0m\u001b[0m\n",
      "\u001b[1;31mKeyError\u001b[0m: 'methodsWritten'"
     ]
    }
   ],
   "source": [
    "# df_apm['methodsWritten'].where(df_apm['methodsWritten'] == 41969).dropna()"
   ]
  },
  {
   "cell_type": "code",
   "execution_count": null,
   "id": "66689df7",
   "metadata": {},
   "outputs": [],
   "source": [
    "# df_apm['methodsWritten'].idxmax()"
   ]
  },
  {
   "cell_type": "code",
   "execution_count": null,
   "id": "64630027",
   "metadata": {},
   "outputs": [],
   "source": [
    "# df_apm.loc[df_apm['methodsWritten'].idxmax()]"
   ]
  },
  {
   "cell_type": "code",
   "execution_count": null,
   "id": "b51220d7",
   "metadata": {},
   "outputs": [],
   "source": [
    "df_number_methods_project = df_am.groupby('projectID')['methodHash'].nunique()"
   ]
  },
  {
   "cell_type": "code",
   "execution_count": null,
   "id": "f45bf4db",
   "metadata": {
    "scrolled": true
   },
   "outputs": [],
   "source": [
    "df_nmp = pd.Series.to_frame(df_number_methods_project).reset_index()\n",
    "\n",
    "df_nmp"
   ]
  },
  {
   "cell_type": "code",
   "execution_count": null,
   "id": "3bed6b11",
   "metadata": {},
   "outputs": [],
   "source": [
    "df_nmp = df_nmp[df_nmp.methodHash > 50]\n",
    "\n",
    "df_nmp.shape"
   ]
  },
  {
   "cell_type": "code",
   "execution_count": null,
   "id": "74a4eb21",
   "metadata": {},
   "outputs": [],
   "source": [
    "df_nmp.mean()"
   ]
  },
  {
   "cell_type": "code",
   "execution_count": null,
   "id": "d9925270",
   "metadata": {},
   "outputs": [],
   "source": [
    "df_nmp = df_nmp.rename(columns={\"methodHash\": \"methodsTotal\"})\n",
    "\n",
    "df_apm = df_apm.rename(columns={\"methodHash\": \"methodsWritten\"})"
   ]
  },
  {
   "cell_type": "code",
   "execution_count": null,
   "id": "b2267c9c",
   "metadata": {},
   "outputs": [],
   "source": [
    "df_nmp.shape\n",
    "df_nmp.head(1)\n",
    "\n",
    "\n",
    "df_apm.shape\n",
    "df_apm.head(1)"
   ]
  },
  {
   "cell_type": "code",
   "execution_count": null,
   "id": "4200bb07",
   "metadata": {},
   "outputs": [],
   "source": [
    "# df_apm.loc[df_apm['projectID'].isin(df_nmp['projectID'])]\n",
    "\n",
    "df_test = pd.merge(df_apm, df_nmp, on=['projectID'], how='left') \n",
    "\n",
    "df_test.head(3)\n",
    "\n",
    "df_test.shape"
   ]
  },
  {
   "cell_type": "code",
   "execution_count": null,
   "id": "8c5b055b",
   "metadata": {},
   "outputs": [],
   "source": [
    "# # import multiprocessing\n",
    "\n",
    "# def get_lonewolves():\n",
    "#     lone_wolves = []\n",
    "#     for index, row in df_apm.iterrows():\n",
    "#         for index, row2 in df_nmp.iterrows():\n",
    "#             if row['projectID'] == row2['projectID']:\n",
    "#                 if row2['methodHash'] > 3:\n",
    "#                     if (row['methodHash'] / row2['methodHash']) > 0.5:\n",
    "#     #                     print(row['authorID'], row['methodHash'], \"/\", row2['methodHash'], \"=\", row['methodHash'] / row2['methodHash'])\n",
    "#                         lone_wolves.append(row['authorID'])\n",
    "#     return lone_wolves\n",
    "\n",
    "# #%%\n",
    "# import multiprocessing\n",
    "# # from workers import get_lonewolves\n",
    "\n",
    "# #%%\n",
    "# if __name__ ==  '__main__': \n",
    "#     pool = multiprocessing.Pool()\n",
    "#     results = pool.map(get_lonewolves, [1,2,3,4,5,6])\n",
    "#     pool.close()\n",
    "#     pool.join()\n",
    "#     print(results)"
   ]
  },
  {
   "cell_type": "code",
   "execution_count": null,
   "id": "d07528b1",
   "metadata": {},
   "outputs": [],
   "source": [
    "lone_wolves = []"
   ]
  },
  {
   "cell_type": "code",
   "execution_count": null,
   "id": "0d3f2c25",
   "metadata": {},
   "outputs": [],
   "source": [
    "for index, row in df_test.iterrows():\n",
    "            if row['authorID'] not in lone_wolves:     \n",
    "                if (row['methodsWritten'] / row['methodsTotal']) > 0.66:\n",
    "                    print(index, row['authorID'], row['methodsWritten'], \"/\", row['methodsTotal'], \"=\", row['methodsWritten'] / row['methodsTotal'])\n",
    "                    lone_wolves.append(row['authorID'])"
   ]
  },
  {
   "cell_type": "code",
   "execution_count": null,
   "id": "958ce925",
   "metadata": {
    "scrolled": true
   },
   "outputs": [],
   "source": [
    "# To make this run faster the folllowing steps must be done:\n",
    "    # Only include projects in the df's where there are multiple authors\n",
    "\n",
    "# for index, row in df_apm.iterrows():\n",
    "#     for index, row2 in df_nmp.iterrows():\n",
    "# #         if index % 1000000 == 0:\n",
    "# #             print(\"calc'd 1 million rows\")\n",
    "#         if row['projectID'] == row2['projectID']:\n",
    "#             if row['authorID'] not in lone_wolves:\n",
    "# #                 print(\"not in lone wolves\")            \n",
    "#                 if (row['methodHash'] / row2['methodHash']) > 0.66:\n",
    "#                     print(index, row['authorID'], row['methodHash'], \"/\", row2['methodHash'], \"=\", row['methodHash'] / row2['methodHash'])\n",
    "#                     lone_wolves.append(row['authorID'])"
   ]
  },
  {
   "cell_type": "code",
   "execution_count": null,
   "id": "bf804f8c",
   "metadata": {
    "scrolled": true
   },
   "outputs": [],
   "source": [
    "lone_wolves"
   ]
  },
  {
   "cell_type": "code",
   "execution_count": null,
   "id": "abf10734",
   "metadata": {},
   "outputs": [],
   "source": [
    "# output_file = open('lone_wolves_full.txt', 'w')\n",
    "\n",
    "# for wolf in lone_wolves[1:300]:\n",
    "#     output_file.write(wolf)\n",
    "\n",
    "# output_file.close()"
   ]
  },
  {
   "cell_type": "code",
   "execution_count": null,
   "id": "27a50fca",
   "metadata": {},
   "outputs": [],
   "source": [
    "df_lw = pd.DataFrame(data=lone_wolves)"
   ]
  },
  {
   "cell_type": "code",
   "execution_count": null,
   "id": "4ed7e71e",
   "metadata": {},
   "outputs": [],
   "source": [
    "df_devexp = pd.read_csv('authorNumbersV3.csv')"
   ]
  },
  {
   "cell_type": "code",
   "execution_count": null,
   "id": "9a837970",
   "metadata": {
    "scrolled": true
   },
   "outputs": [],
   "source": [
    "df_devexp = df_devexp.rename(columns={\"author\":\"authorID\"})\n",
    "df_devexp = df_devexp.rename(columns={\"noOfProj\":\"projectContributions\"})\n",
    "df_devexp = df_devexp.rename(columns={\"noOfMethods\":\"methodsWritten\"})\n",
    "df_devexp = df_devexp.drop(columns=['Unnamed: 0', 'Unnamed: 0.1'])\n",
    "\n",
    "df_devexp"
   ]
  },
  {
   "cell_type": "code",
   "execution_count": null,
   "id": "24bff1ef",
   "metadata": {
    "scrolled": true
   },
   "outputs": [],
   "source": [
    "sns.boxplot(x=df_devexp['methodsWritten'])"
   ]
  },
  {
   "cell_type": "code",
   "execution_count": null,
   "id": "d0a91430",
   "metadata": {},
   "outputs": [],
   "source": [
    "sns.boxplot(x=df_devexp['projectContributions'])"
   ]
  },
  {
   "cell_type": "code",
   "execution_count": null,
   "id": "4a84b875",
   "metadata": {},
   "outputs": [],
   "source": [
    "df_devexp.drop(df_devexp[df_devexp.methodsWritten > 200].index, inplace=True)\n",
    "df_devexp.drop(df_devexp[df_devexp.methodsWritten < 5].index, inplace=True)"
   ]
  },
  {
   "cell_type": "code",
   "execution_count": null,
   "id": "161aa9b8",
   "metadata": {},
   "outputs": [],
   "source": [
    "sns.boxplot(x=df_devexp['methodsWritten'])"
   ]
  },
  {
   "cell_type": "code",
   "execution_count": null,
   "id": "151060fc",
   "metadata": {},
   "outputs": [],
   "source": [
    "sns.boxplot(x=df_devexp['projectContributions'])"
   ]
  },
  {
   "cell_type": "code",
   "execution_count": null,
   "id": "239e1089",
   "metadata": {},
   "outputs": [],
   "source": [
    "df_devexp.drop(df_devexp[df_devexp.projectContributions < 2].index, inplace=True)\n",
    "df_devexp.drop(df_devexp[df_devexp.projectContributions > 10].index, inplace=True)"
   ]
  },
  {
   "cell_type": "code",
   "execution_count": null,
   "id": "8e789405",
   "metadata": {},
   "outputs": [],
   "source": [
    "sns.boxplot(x=df_devexp['projectContributions'])"
   ]
  },
  {
   "cell_type": "code",
   "execution_count": null,
   "id": "d8a0bcc0",
   "metadata": {},
   "outputs": [],
   "source": [
    "df_devexp.shape"
   ]
  },
  {
   "cell_type": "code",
   "execution_count": null,
   "id": "1c63aeeb",
   "metadata": {},
   "outputs": [],
   "source": [
    "print(df_devexp['projectContributions'].mean(), df_devexp['projectContributions'].std())\n",
    "\n",
    "print(df_devexp['methodsWritten'].mean(), df_devexp['methodsWritten'].std())"
   ]
  },
  {
   "cell_type": "code",
   "execution_count": null,
   "id": "c3eb45f3",
   "metadata": {
    "scrolled": true
   },
   "outputs": [],
   "source": [
    "sns.scatterplot(data=df_devexp, x=\"projectContributions\", y=\"methodsWritten\")\n",
    "\n",
    "# sns.boxplot(x=df_devexp['methodsWritten'])"
   ]
  },
  {
   "cell_type": "code",
   "execution_count": null,
   "id": "f4044a5e",
   "metadata": {
    "scrolled": true
   },
   "outputs": [],
   "source": [
    "sns.boxplot(x=df_devexp['methodsWritten'])"
   ]
  },
  {
   "cell_type": "code",
   "execution_count": null,
   "id": "9b81fb45",
   "metadata": {},
   "outputs": [],
   "source": [
    "sns.boxplot(x=df_devexp['projectContributions'])"
   ]
  },
  {
   "cell_type": "code",
   "execution_count": null,
   "id": "b89c63e6",
   "metadata": {
    "scrolled": true
   },
   "outputs": [],
   "source": [
    "# Eventueel nog op basis van mean (bijv. 0 - mean / 2; mean / 2 - mean + mean / 2, Inf)\n",
    "\n",
    "df_devexp['methodsWrittenCat'] = pd.cut(df_devexp['methodsWritten'], bins=[0, 5, 30, 50, 350, float('Inf')], labels=[1, 2, 3, 4, 5])\n",
    "df_devexp['projectContributionsCat'] = pd.cut(df_devexp['projectContributions'], bins=[0, 3, 5, 7, 10, float('Inf')], labels=[1, 2, 3, 4, 5])\n",
    "# df_devexp['linesOfCodeWrittenCat'] = pd.cut(df_devexp['linesOfCodeWritten'], bins=[0, df_devexp['linesOfCodeWritten'].mean() - df_devexp['linesOfCodeWritten'].std(), df_devexp['linesOfCodeWritten'].mean() + df_devexp['linesOfCodeWritten'].std(), float('Inf')], labels=[1, 2, 3])\n",
    "\n",
    "df_devexp['methodsWrittenCat'] = df_devexp['methodsWrittenCat'].astype('int')\n",
    "df_devexp['projectContributionsCat'] = df_devexp['projectContributionsCat'].astype('int')\n",
    "# df_devexp['linesOfCodeWrittenCat'] = df_devexp['linesOfCodeWrittenCat'].astype('int')\n",
    "\n",
    "# df_devexp"
   ]
  },
  {
   "cell_type": "code",
   "execution_count": null,
   "id": "e9aaa4d9",
   "metadata": {
    "scrolled": false
   },
   "outputs": [],
   "source": [
    "df_devexp['developerExperienceNum'] = (df_devexp['methodsWrittenCat'] + df_devexp['projectContributionsCat']) / 2\n",
    "\n",
    "df_devexp['developerExperienceNum'].value_counts()\n",
    "\n",
    "df_devexp['developerExperience'] = df_devexp['developerExperienceNum'].replace({1.0: 'Low', 1.5: 'Low', 2.0: 'Medium', 2.5: 'Medium', 3.0: 'High', 3.5: 'High', 4.0: 'High', 4.5: 'High', 5.0: 'High', 5.5: 'High', 6.0: 'High'})\n",
    "\n",
    "df_devexp['developerExperience'] = df_devexp['developerExperience'].astype(\"category\")\n",
    "\n",
    "df_devexp['developerExperience'].value_counts()\n",
    "\n",
    "\n",
    "\n",
    "# df_devexp['developerExperience'] = pd.cut(df_devexp['developerExperienceNum'], bins=[0, 0.334, 0.666, float('Inf')], labels=['Low', 'Medium', 'High'])\n",
    "# df_devexp['developerExperience'] = pd.cut(df_devexp['developerExperienceNum'], bins=[0, df_devexp['developerExperienceNum'].mean() - (df_devexp['developerExperienceNum'].mean() / 2), df_devexp['developerExperienceNum'].mean() + (df_devexp['developerExperienceNum'].mean() / 2), float('Inf')], labels=['Low', 'Medium', 'High'])\n",
    "\n",
    "# df_devexp['developerExperience'].value_counts()"
   ]
  },
  {
   "cell_type": "code",
   "execution_count": null,
   "id": "c6c30108",
   "metadata": {},
   "outputs": [],
   "source": [
    "df_devexp"
   ]
  },
  {
   "cell_type": "code",
   "execution_count": null,
   "id": "5f3c07a9",
   "metadata": {},
   "outputs": [],
   "source": [
    "pyplot.hist(df_devexp['relativeClones'])"
   ]
  },
  {
   "cell_type": "code",
   "execution_count": null,
   "id": "14295104",
   "metadata": {
    "scrolled": true
   },
   "outputs": [],
   "source": [
    "rp.summary_cont(df_devexp['relativeClones'])\n",
    "\n",
    "rp.summary_cont(df_devexp['relativeClones'].groupby(df_devexp['developerExperience']))"
   ]
  },
  {
   "cell_type": "code",
   "execution_count": null,
   "id": "5acb78b1",
   "metadata": {},
   "outputs": [],
   "source": [
    "group_low = pd.DataFrame.dropna(df_devexp.where(df_devexp['developerExperience'] == 'Low'))['relativeClones']\n",
    "group_med = pd.DataFrame.dropna(df_devexp.where(df_devexp['developerExperience'] == 'Medium'))['relativeClones']\n",
    "group_high = pd.DataFrame.dropna(df_devexp.where(df_devexp['developerExperience'] == 'High'))['relativeClones']\n",
    "\n",
    "stats.kruskal(group_low, group_med, group_high)\n",
    "\n",
    "# df_devexp.dtypes"
   ]
  },
  {
   "cell_type": "code",
   "execution_count": null,
   "id": "8b8a842d",
   "metadata": {},
   "outputs": [],
   "source": [
    "# stats.f_oneway(df_devexp['relativeClones'][df_devexp['developerExperience'] == 'Low'],\n",
    "#                df_devexp['relativeClones'][df_devexp['developerExperience'] == 'Medium'],\n",
    "#                df_devexp['relativeClones'][df_devexp['developerExperience'] == 'High'])"
   ]
  },
  {
   "cell_type": "code",
   "execution_count": null,
   "id": "34d85db2",
   "metadata": {
    "scrolled": true
   },
   "outputs": [],
   "source": [
    "# stats.levene(df_devexp['relativeClones'][df_devexp['developerExperience'] == 'Low'],\n",
    "#                df_devexp['relativeClones'][df_devexp['developerExperience'] == 'Medium'],\n",
    "#                df_devexp['relativeClones'][df_devexp['developerExperience'] == 'High'])"
   ]
  },
  {
   "cell_type": "code",
   "execution_count": null,
   "id": "d7e41496",
   "metadata": {},
   "outputs": [],
   "source": [
    "# model = ols('developerExperienceNum ~ relativeClones', data=df_devexp).fit()\n",
    "# aov_table = sm.stats.anova_lm(model, typ=2)\n",
    "# aov_table"
   ]
  },
  {
   "cell_type": "code",
   "execution_count": null,
   "id": "37366ff6",
   "metadata": {},
   "outputs": [],
   "source": [
    "# df_devexp.to_csv('developerExperienceV2.csv')"
   ]
  },
  {
   "cell_type": "code",
   "execution_count": null,
   "id": "55b8b4bf",
   "metadata": {},
   "outputs": [],
   "source": [
    "projectInfo = pd.read_csv('projectInfo.csv')\n",
    "\n",
    "x = projectInfo['projectName'].isna()\n",
    "\n",
    "y = np.unique(projectInfo['projectName'])\n",
    "\n",
    "values, counts = np.unique(projectInfo['projectName'], return_counts=True)\n",
    "\n",
    "# f=open('f1.txt','w')\n",
    "# s1='\\n'.join(y)\n",
    "# f.write(s1)\n",
    "# f.close()"
   ]
  },
  {
   "cell_type": "code",
   "execution_count": null,
   "id": "af936f57",
   "metadata": {},
   "outputs": [],
   "source": [
    "projectInfo.head(1)\n",
    "\n",
    "df_am.head(1)"
   ]
  },
  {
   "cell_type": "code",
   "execution_count": null,
   "id": "994fbda6",
   "metadata": {},
   "outputs": [],
   "source": [
    "projectSubset = projectInfo.loc[projectInfo['projectID'].isin(df_am['projectID'])]\n",
    "\n",
    "projectSubset = pd.merge(projectInfo, df_am[['authorID', 'projectID']], on='projectID', how='outer')\n",
    "\n",
    "projectSubset.shape\n",
    "projectSubset.head()"
   ]
  },
  {
   "cell_type": "code",
   "execution_count": null,
   "id": "9cb720f7",
   "metadata": {},
   "outputs": [],
   "source": [
    "# replace = pd.read_csv('pop_search/replace.csv')\n",
    "\n",
    "# newResults = []\n",
    "\n",
    "# for i in replace['searchResults']:\n",
    "#     newResults.append(i.split()[1])\n",
    "    \n",
    "# replace['searchResults'] = newResults\n",
    "\n",
    "# replace = replace.drop(columns='Unnamed: 0')\n",
    "\n",
    "# replace \n",
    "# replace.to_csv('replace_new.csv')\n",
    "\n",
    "# #     replace['searchResults']test[0].split()[1]"
   ]
  },
  {
   "cell_type": "code",
   "execution_count": null,
   "id": "2cd5e6f9",
   "metadata": {},
   "outputs": [],
   "source": [
    "df_pop = \"\""
   ]
  },
  {
   "cell_type": "code",
   "execution_count": null,
   "id": "e2ec965b",
   "metadata": {
    "scrolled": true
   },
   "outputs": [],
   "source": [
    "df_pop = pd.read_csv('pop_search/project_popularity.csv', thousands=',')\n",
    "\n",
    "df_pop['searchResults'] = df_pop['searchResults'].replace(',','', regex=True)\n",
    "df_pop['searchResults'] = df_pop['searchResults'].astype(\"int64\")\n",
    "\n",
    "\n",
    "df_pop.dtypes"
   ]
  },
  {
   "cell_type": "code",
   "execution_count": null,
   "id": "df2e9937",
   "metadata": {},
   "outputs": [],
   "source": [
    "df_pop['searchResults'].mean()\n",
    "df_pop['searchResults'].std()"
   ]
  },
  {
   "cell_type": "code",
   "execution_count": null,
   "id": "fe71f109",
   "metadata": {},
   "outputs": [],
   "source": [
    "df_pop['searchResultsCat'] = pd.cut(df_pop['searchResults'], bins=[0, df_pop['searchResults'].mean() - (df_pop['searchResults'].mean() / 2), df_pop['searchResults'].mean() + (df_pop['searchResults'].mean() / 2), float('Inf')], labels=[1, 2, 3])\n",
    "# df_pop['searchResultsCat'] = df_pop['searchResultsCat'].astype('int')\n",
    "\n",
    "# df_devexp['developerExperience'] = pd.cut(df_devexp['developerExperienceNum'], bins=[0, 0.333, 0.667, float('Inf')], labels=['Low', 'Medium', 'High'])\n",
    "\n",
    "df_pop"
   ]
  },
  {
   "cell_type": "code",
   "execution_count": null,
   "id": "9dc61976",
   "metadata": {
    "scrolled": false
   },
   "outputs": [],
   "source": [
    "df_pop['searchResultsCat'].value_counts()"
   ]
  },
  {
   "cell_type": "markdown",
   "id": "e7248cc3",
   "metadata": {},
   "source": [
    "# Determining ODF's"
   ]
  },
  {
   "cell_type": "code",
   "execution_count": null,
   "id": "ce97c089",
   "metadata": {},
   "outputs": [],
   "source": [
    "lw = pd.read_csv('../cleanedAuthorMethodV3.csv')"
   ]
  },
  {
   "cell_type": "code",
   "execution_count": null,
   "id": "9b38c8ba",
   "metadata": {},
   "outputs": [],
   "source": [
    "lw = lw.iloc[:, 2:]\n",
    "numberOfProjects = lw.groupby(by='authorID', as_index=False).agg({'projectID': pd.Series.nunique})\n",
    "numberOfProjects = numberOfProjects.rename(columns={\"projectID\": \"number of unique projects\"})\n",
    "\n",
    "# Extracting OneDayFlies\n",
    "odf = numberOfProjects[numberOfProjects['number of unique projects'] == 1]\n",
    "# odf.to_csv('odf.csv', index=False)"
   ]
  },
  {
   "cell_type": "code",
   "execution_count": null,
   "id": "52cb6f5f",
   "metadata": {
    "scrolled": true
   },
   "outputs": [],
   "source": [
    "odf"
   ]
  },
  {
   "cell_type": "code",
   "execution_count": null,
   "id": "023ebdd0",
   "metadata": {
    "scrolled": false
   },
   "outputs": [],
   "source": [
    "# projects_full = projectSubset.loc[projectSubset['projectName'].isin(df_pop['projectName'])]\n",
    "\n",
    "# projects_full = df_pop.loc[projectSubset['projectName'].isin(projectSubset['projectName'])]\n",
    "\n",
    "projects_full = pd.merge(projectSubset, df_pop[['projectName', 'searchResults', 'searchResultsCat']], on='projectName', how='outer')\n",
    "\n",
    "projects_full.head(5)\n",
    "\n",
    "projects_full.dtypes\n"
   ]
  },
  {
   "cell_type": "code",
   "execution_count": null,
   "id": "ce209e40",
   "metadata": {},
   "outputs": [],
   "source": [
    "avg_search_results = pd.DataFrame(projects_full.groupby(['authorID'])['searchResults'].mean()).reset_index()\n",
    "\n",
    "avg_search_results.head(3)"
   ]
  },
  {
   "cell_type": "code",
   "execution_count": null,
   "id": "99b8a5fc",
   "metadata": {},
   "outputs": [],
   "source": [
    "one_day_flies = projects_full.where(projects_full['searchResultsCat'] == 3)"
   ]
  },
  {
   "cell_type": "code",
   "execution_count": null,
   "id": "62a725a9",
   "metadata": {
    "scrolled": true
   },
   "outputs": [],
   "source": [
    "len(one_day_flies['authorID'].unique())"
   ]
  },
  {
   "cell_type": "markdown",
   "id": "0bf4521f",
   "metadata": {},
   "source": [
    "# Networkers"
   ]
  },
  {
   "cell_type": "code",
   "execution_count": null,
   "id": "92db091a",
   "metadata": {},
   "outputs": [],
   "source": [
    "df_nw = pd.read_csv('../cleanedAuthorMethodV3.csv')"
   ]
  },
  {
   "cell_type": "code",
   "execution_count": null,
   "id": "acc87306",
   "metadata": {
    "scrolled": false
   },
   "outputs": [],
   "source": [
    "df_nw = df_nw.iloc[:, 2:]\n",
    "\n",
    "numberOfProjects_nw = df_nw.groupby(by='authorID', as_index=False).agg({'projectID': pd.Series.nunique})\n",
    "numberOfProjects_nw = numberOfProjects_nw.rename(columns={\"projectID\": \"number of unique projects\"})\n",
    "mean = numberOfProjects_nw['number of unique projects'].mean()\n",
    "std = numberOfProjects_nw['number of unique projects'].std()\n",
    "\n",
    "# count all developers with 1 std from mean\n",
    "df2 = numberOfProjects_nw[numberOfProjects_nw['number of unique projects'] > mean + std]\n",
    "\n",
    "df2"
   ]
  },
  {
   "cell_type": "code",
   "execution_count": null,
   "id": "f0ea7d53",
   "metadata": {
    "scrolled": true
   },
   "outputs": [],
   "source": [
    "len(df2['authorID'])"
   ]
  },
  {
   "cell_type": "markdown",
   "id": "e898e7b2",
   "metadata": {},
   "source": [
    "# Lone Wolves"
   ]
  },
  {
   "cell_type": "code",
   "execution_count": null,
   "id": "240cf1fa",
   "metadata": {},
   "outputs": [],
   "source": [
    "# lone_wolves = []\n",
    "\n",
    "# with open('lone_wolves.txt', 'r') as f:\n",
    "#     for line in f:\n",
    "#         line = line.strip()\n",
    "#         lone_wolves.append(line)\n",
    "        \n",
    "# lone_wolves"
   ]
  },
  {
   "cell_type": "code",
   "execution_count": null,
   "id": "66550c4f",
   "metadata": {},
   "outputs": [],
   "source": [
    "# wolfs_lone = numberOfProjects_nw[numberOfProjects_nw['number of unique projects'] <= 3]"
   ]
  },
  {
   "cell_type": "code",
   "execution_count": null,
   "id": "7d4cd3f5",
   "metadata": {
    "scrolled": true
   },
   "outputs": [],
   "source": [
    "# wolfs_lone"
   ]
  },
  {
   "cell_type": "markdown",
   "id": "fad8b427",
   "metadata": {},
   "source": [
    "# Construct DataFrame with Developers"
   ]
  },
  {
   "cell_type": "code",
   "execution_count": null,
   "id": "a43d96f2",
   "metadata": {
    "scrolled": true
   },
   "outputs": [],
   "source": [
    "# MERGE ALL INTO DATAFRAME\n",
    "\n",
    "df_devs = pd.read_csv('authorNumbersV3.csv')\n",
    "df_devs = df_devs.rename(columns={\"author\":\"authorID\"})\n",
    "df_devs = df_devs.rename(columns={\"noOfProj\":\"projectContributions\"})\n",
    "df_devs = df_devs.rename(columns={\"noOfMethods\":\"methodsWritten\"})\n",
    "\n",
    "# Operation:\n",
    "# Find developer type with df.loc from df with these developers.\n",
    "# Assign deverloper type name in separate column.\n",
    "# Do this for all developer types\n",
    "# Merge df's.\n",
    "\n",
    "# Lone wolves\n",
    "df_merge1 = df_devs.loc[df_devs['authorID'].isin(lone_wolves)]\n",
    "df_merge1['developerType'] = 'Lonewolf'\n",
    "\n",
    "# Networkers\n",
    "df_merge2 = df_devs.loc[df_devs['authorID'].isin(df2['authorID'])]\n",
    "df_merge2['developerType'] = 'Networker'\n",
    "\n",
    "# One-day-flies\n",
    "df_merge3 = df_devs.loc[df_devs['authorID'].isin(one_day_flies['authorID'])]\n",
    "df_merge3['developerType'] = 'OneDayFly'\n",
    "\n",
    "frames = [df_merge1, df_merge2, df_merge3]\n",
    "\n",
    "df_developers = pd.concat(frames)\n",
    "df_developers = df_developers.drop(columns=['Unnamed: 0', 'Unnamed: 0.1'])\n",
    "\n",
    "\n",
    "# df_developers_labeled = df_merge4.loc[df_merge4['authorID'].isin(df_developers['authorID'])]\n",
    "\n",
    "# df_developers_labeled.head(3)\n",
    "# 10,190\n",
    "\n",
    "df_developers.drop(df_developers[df_developers.projectContributions > 100].index, inplace=True)\n",
    "df_developers.drop(df_developers[df_developers.methodsWritten > 10000].index, inplace=True)\n",
    "\n",
    "df_developers.head(3)\n",
    "df_developers['developerType'].value_counts()\n",
    "\n",
    "\n",
    "# df_developers.loc[df_developers['authorID'].isin(df_developers_labeled['authorID'])]['developerType']\n",
    "# df_developers\n",
    "\n",
    "# df_developers_labeled['developerType'].value_counts()\n",
    "# df_developers_labeled['developerExperience'].value_counts()\n",
    "\n",
    "# df_developers_labeled.head()"
   ]
  },
  {
   "cell_type": "code",
   "execution_count": null,
   "id": "43956381",
   "metadata": {},
   "outputs": [],
   "source": [
    "# df_developers.loc(df_developers['authorID'].isin(projects_full['authorID']))"
   ]
  },
  {
   "cell_type": "code",
   "execution_count": null,
   "id": "ead039f3",
   "metadata": {
    "scrolled": true
   },
   "outputs": [],
   "source": [
    "sns.scatterplot(data=df_developers, x=\"projectContributions\", y=\"methodsWritten\", hue='developerType')"
   ]
  },
  {
   "cell_type": "code",
   "execution_count": null,
   "id": "478653f3",
   "metadata": {},
   "outputs": [],
   "source": [
    "# df_merge4.dropna()"
   ]
  },
  {
   "cell_type": "code",
   "execution_count": null,
   "id": "288ea1dd",
   "metadata": {},
   "outputs": [],
   "source": [
    "df_relevant_developers = df_devexp"
   ]
  },
  {
   "cell_type": "code",
   "execution_count": null,
   "id": "78eb65a3",
   "metadata": {},
   "outputs": [],
   "source": [
    "rp.summary_cont(df_relevant_developers['relativeClones'])\n",
    "\n",
    "# rp.summary_cont(df_relevant_developers['relativeClones'].groupby(df_relevant_developers['developerType']))"
   ]
  },
  {
   "cell_type": "code",
   "execution_count": null,
   "id": "1639134a",
   "metadata": {},
   "outputs": [],
   "source": [
    "group_nw = pd.DataFrame.dropna(df_developers.where(df_developers['developerType'] == 'Networker'))['relativeClones']\n",
    "group_lw = pd.DataFrame.dropna(df_developers.where(df_developers['developerType'] == 'Lonewolf'))['relativeClones']\n",
    "group_odf = pd.DataFrame.dropna(df_developers.where(df_developers['developerType'] == 'OneDayFly'))['relativeClones']\n",
    "\n",
    "stats.kruskal(group_nw, group_lw, group_odf)"
   ]
  },
  {
   "cell_type": "code",
   "execution_count": null,
   "id": "d1b6f69d",
   "metadata": {
    "scrolled": true
   },
   "outputs": [],
   "source": [
    "rp.summary_cont(df_developers['relativeClones'].groupby(df_developers['developerType']))\n",
    "\n",
    "stats.f_oneway(df_developers['relativeClones'][df_developers['developerType'] == 'Lonewolf'],\n",
    "               df_developers['relativeClones'][df_developers['developerType'] == 'Networker'],\n",
    "               df_developers['relativeClones'][df_developers['developerType'] == 'OneDayFly'])\n",
    "# p: 0.0000000000000000000000000000000000000000010812331287603708\n",
    "\n",
    "# Checkt voor variance van data binnen de developer type groepen. p < 0.05 betekent dat de variance significant is.\n",
    "stats.levene(df_developers['relativeClones'][df_developers['developerType'] == 'Lonewolf'],\n",
    "               df_developers['relativeClones'][df_developers['developerType'] == 'Networker'],\n",
    "               df_developers['relativeClones'][df_developers['developerType'] == 'OneDayFly'])\n",
    "# p: 0.0000000000000000000000000000000000000604827149383733"
   ]
  },
  {
   "cell_type": "markdown",
   "id": "30df087e",
   "metadata": {},
   "source": [
    "# Running K-Means to discover Developer Types"
   ]
  },
  {
   "cell_type": "code",
   "execution_count": null,
   "id": "dc7979e8",
   "metadata": {},
   "outputs": [],
   "source": [
    "df_devexp = df_devexp.drop(columns = ['searchResults_x', 'searchResults_y'])"
   ]
  },
  {
   "cell_type": "code",
   "execution_count": null,
   "id": "c03298ed",
   "metadata": {},
   "outputs": [],
   "source": [
    "df_relevant_developers = pd.merge(df_devexp, avg_search_results, on=['authorID'], how='right')"
   ]
  },
  {
   "cell_type": "code",
   "execution_count": null,
   "id": "b55e4af3",
   "metadata": {},
   "outputs": [],
   "source": [
    "df_relevant_developers"
   ]
  },
  {
   "cell_type": "code",
   "execution_count": null,
   "id": "a552fa22",
   "metadata": {
    "scrolled": true
   },
   "outputs": [],
   "source": [
    "df_relevant_developers['developerExperienceNum'] = df_relevant_developers['developerExperienceNum'].astype(\"category\")\n",
    "\n",
    "df_relevant_developers = df_relevant_developers.dropna()\n",
    "\n",
    "df_relevant_developers['searchResults'] = df_relevant_developers['searchResults'].astype(\"int64\")\n",
    "\n",
    "df_relevant_developers\n",
    "\n",
    "df_relevant_developers.dtypes"
   ]
  },
  {
   "cell_type": "code",
   "execution_count": null,
   "id": "48f75af0",
   "metadata": {},
   "outputs": [],
   "source": [
    "# df_devexp.drop(df_devexp[df_devexp.projectContributions > 100].index, inplace=True)\n",
    "# df_devexp.drop(df_devexp[df_devexp.methodsWritten > 10000].index, inplace=True)\n",
    "\n",
    "# df_devexp.drop(df_devexp[df_devexp.projectContributions < 4].index, inplace=True)\n",
    "# df_devexp.drop(df_devexp[df_devexp.methodsWritten < 25].index, inplace=True)"
   ]
  },
  {
   "cell_type": "code",
   "execution_count": null,
   "id": "aacefa3a",
   "metadata": {
    "scrolled": true
   },
   "outputs": [],
   "source": [
    "df_km = df_relevant_developers.drop(columns = ['noOfClones', 'projectContributionsCat', 'methodsWrittenCat', 'developerExperience', 'developerExperienceNum', 'searchResults', 'relativeClones'])\n",
    "\n",
    "df_km"
   ]
  },
  {
   "cell_type": "code",
   "execution_count": null,
   "id": "6bd1f5f2",
   "metadata": {},
   "outputs": [],
   "source": [
    "# sns.scatterplot(data=df_km, x=\"projectContributions\", y=\"methodsWritten\")\n",
    "\n",
    "sns.barplot(data=df_km, x=\"projectContributions\", y=\"methodsWritten\", color='salmon')"
   ]
  },
  {
   "cell_type": "code",
   "execution_count": null,
   "id": "25cc33fb",
   "metadata": {},
   "outputs": [],
   "source": [
    "# from scipy import stats\n",
    "# df_km[(np.abs(stats.zscore(df_km)) < 3).all(axis=1)]"
   ]
  },
  {
   "cell_type": "code",
   "execution_count": null,
   "id": "680c2e37",
   "metadata": {},
   "outputs": [],
   "source": [
    "df_km['projectContributions'].median()\n",
    "df_km['methodsWritten'].median()"
   ]
  },
  {
   "cell_type": "code",
   "execution_count": null,
   "id": "bf6a61c4",
   "metadata": {},
   "outputs": [],
   "source": [
    "# from sklearn.cluster import KMeans\n",
    "\n",
    "# distortions = []\n",
    "# K = range(1,10)\n",
    "# for k in K:\n",
    "#     kmeanModel = KMeans(n_clusters=k)\n",
    "#     kmeanModel.fit(df_km[['projectContributions', 'methodsWritten']])\n",
    "#     distortions.append(kmeanModel.inertia_)"
   ]
  },
  {
   "cell_type": "code",
   "execution_count": null,
   "id": "8e7c4403",
   "metadata": {
    "scrolled": false
   },
   "outputs": [],
   "source": [
    "# plt.figure(figsize=(16,8))\n",
    "# plt.plot(K, distortions, 'bx-')\n",
    "# plt.xlabel('k')\n",
    "# plt.ylabel('Distortion')\n",
    "# plt.title('The Elbow Method showing the optimal k')\n",
    "# plt.show()"
   ]
  },
  {
   "cell_type": "code",
   "execution_count": null,
   "id": "3994db5d",
   "metadata": {},
   "outputs": [],
   "source": [
    "df_km[['projectContributions', 'methodsWritten']]"
   ]
  },
  {
   "cell_type": "code",
   "execution_count": null,
   "id": "39e72f42",
   "metadata": {},
   "outputs": [],
   "source": [
    "from sklearn.cluster import KMeans\n",
    "from yellowbrick.cluster.elbow import kelbow_visualizer\n",
    "\n",
    "kelbow_visualizer(KMeans(random_state=3), df_km[['projectContributions', 'methodsWritten']], k=(2,10))"
   ]
  },
  {
   "cell_type": "code",
   "execution_count": null,
   "id": "5cb890c0",
   "metadata": {},
   "outputs": [],
   "source": [
    "kmeanModel = KMeans(n_clusters=4)\n",
    "kmeanModel.fit(df_km[['projectContributions', 'methodsWritten']])"
   ]
  },
  {
   "cell_type": "code",
   "execution_count": null,
   "id": "0722943e",
   "metadata": {},
   "outputs": [],
   "source": [
    "df_km['k_means'] = kmeanModel.predict(df_km[['projectContributions', 'methodsWritten']])\n",
    "\n",
    "df_km['k_means'] = df_km['k_means'].astype(\"category\")"
   ]
  },
  {
   "cell_type": "code",
   "execution_count": null,
   "id": "11158198",
   "metadata": {
    "scrolled": true
   },
   "outputs": [],
   "source": [
    "df_km['k_means'].value_counts()"
   ]
  },
  {
   "cell_type": "code",
   "execution_count": null,
   "id": "bd918f75",
   "metadata": {
    "scrolled": true
   },
   "outputs": [],
   "source": [
    "df_km['projectContributions'].mean()\n",
    "df_km['methodsWritten'].mean()"
   ]
  },
  {
   "cell_type": "code",
   "execution_count": null,
   "id": "dc39493a",
   "metadata": {},
   "outputs": [],
   "source": [
    "df_km"
   ]
  },
  {
   "cell_type": "code",
   "execution_count": null,
   "id": "49f2286c",
   "metadata": {},
   "outputs": [],
   "source": [
    "sns.scatterplot(data=df_km, x=\"projectContributions\", y=\"methodsWritten\", hue=\"k_means\")\n",
    "\n",
    "plt.legend(bbox_to_anchor=(1.05, 1), loc=2, borderaxespad=0.)"
   ]
  },
  {
   "cell_type": "code",
   "execution_count": null,
   "id": "f0585d47",
   "metadata": {},
   "outputs": [],
   "source": [
    "df_krusk = pd.merge(df_km, df_relevant_developers[['authorID', 'noOfClones', 'relativeClones', 'searchResults']], on=['authorID'], how='right')"
   ]
  },
  {
   "cell_type": "code",
   "execution_count": null,
   "id": "f6cab79e",
   "metadata": {
    "scrolled": true
   },
   "outputs": [],
   "source": [
    "df_krusk.head(1)"
   ]
  },
  {
   "cell_type": "code",
   "execution_count": null,
   "id": "4c0a374a",
   "metadata": {},
   "outputs": [],
   "source": [
    "pyplot.hist(df_krusk['relativeClones'])"
   ]
  },
  {
   "cell_type": "code",
   "execution_count": null,
   "id": "2c57a2f6",
   "metadata": {
    "scrolled": true
   },
   "outputs": [],
   "source": [
    "sns.boxplot(x=df_krusk['searchResults'])"
   ]
  },
  {
   "cell_type": "code",
   "execution_count": null,
   "id": "c0fea957",
   "metadata": {},
   "outputs": [],
   "source": [
    "df_krusk['searchResults_ol'] = df_krusk['searchResults'].where(df_krusk['searchResults'] < 500000000, df_krusk['searchResults'].median())\n",
    "df_krusk['searchResults_ol'] = df_krusk['searchResults_ol'].astype(int)\n",
    "\n",
    "\n",
    "df_krusk.head(1)\n",
    "df_krusk.dtypes\n"
   ]
  },
  {
   "cell_type": "code",
   "execution_count": null,
   "id": "50cdbae7",
   "metadata": {},
   "outputs": [],
   "source": [
    "df_krusk['methodsWrittenCat'] = pd.cut(df_krusk['methodsWritten'], bins=[0, 15, 25, 55, 75, float('Inf')], labels=[1, 2, 3, 4, 5])\n",
    "df_krusk['projectContributionsCat'] = pd.cut(df_krusk['projectContributions'], bins=[0, 2, 3, 5, 7, float('Inf')], labels=[1, 2, 3, 4, 5])\n",
    "\n",
    "df_krusk['methodsWrittenCat'] = df_krusk['methodsWrittenCat'].astype('int')\n",
    "df_krusk['projectContributionsCat'] = df_krusk['projectContributionsCat'].astype('int')\n",
    "\n",
    "df_krusk.head(1)"
   ]
  },
  {
   "cell_type": "code",
   "execution_count": null,
   "id": "d923dc2a",
   "metadata": {},
   "outputs": [],
   "source": [
    "df_krusk['developerExperienceNum'] = (df_krusk['methodsWrittenCat'] + df_krusk['projectContributionsCat']) / 2\n",
    "\n",
    "df_krusk['developerExperienceNum'].value_counts()\n",
    "\n",
    "df_krusk['developerExperience'] = df_krusk['developerExperienceNum'].replace({1.0: 'Low', 1.5: 'Low', 2.0: 'Medium', 2.5: 'Medium', 3.0: 'High', 3.5: 'High', 4.0: 'High', 4.5: 'High', 5.0: 'High', 5.5: 'High', 6.0: 'High'})\n",
    "\n",
    "df_krusk['developerExperience'] = df_krusk['developerExperience'].astype(\"category\")\n",
    "\n",
    "df_krusk['developerExperience'].value_counts()"
   ]
  },
  {
   "cell_type": "code",
   "execution_count": null,
   "id": "a20dd187",
   "metadata": {
    "scrolled": true
   },
   "outputs": [],
   "source": [
    "# Calculate average of each k_means group\n",
    "\n",
    "# df_am.loc[df_am['authorID']\n",
    "\n",
    "grp1 = df_krusk.loc[df_krusk['k_means'] == 0]\n",
    "grp2 = df_krusk.loc[df_krusk['k_means'] == 1]\n",
    "grp3 = df_krusk.loc[df_krusk['k_means'] == 2]\n",
    "grp4 = df_krusk.loc[df_krusk['k_means'] == 3]"
   ]
  },
  {
   "cell_type": "code",
   "execution_count": null,
   "id": "bf11b192",
   "metadata": {},
   "outputs": [],
   "source": [
    "grp1.mean()\n",
    "grp2.mean()\n",
    "grp3.mean()\n",
    "grp4.mean()"
   ]
  },
  {
   "cell_type": "code",
   "execution_count": null,
   "id": "81e9503d",
   "metadata": {
    "scrolled": true
   },
   "outputs": [],
   "source": [
    "grp1.median()\n",
    "grp2.median()\n",
    "grp3.median()\n",
    "grp4.median()"
   ]
  },
  {
   "cell_type": "code",
   "execution_count": null,
   "id": "1002c896",
   "metadata": {},
   "outputs": [],
   "source": [
    "rp.summary_cont(df_krusk['relativeClones'])\n",
    "\n",
    "rp.summary_cont(df_krusk['relativeClones'].groupby(df_krusk['developerExperience']))"
   ]
  },
  {
   "cell_type": "code",
   "execution_count": null,
   "id": "b5ad81e6",
   "metadata": {
    "scrolled": true
   },
   "outputs": [],
   "source": [
    "group_0 = pd.DataFrame.dropna(df_krusk.where(df_krusk['k_means'] == 0))['relativeClones']\n",
    "group_1 = pd.DataFrame.dropna(df_krusk.where(df_krusk['k_means'] == 1))['relativeClones']\n",
    "group_2 = pd.DataFrame.dropna(df_krusk.where(df_krusk['k_means'] == 2))['relativeClones']\n",
    "group_3 = pd.DataFrame.dropna(df_krusk.where(df_krusk['k_means'] == 3))['relativeClones']\n",
    "# group_4 = pd.DataFrame.dropna(df_krusk.where(df_krusk['k_means'] == 4))['relativeClones']\n",
    "\n",
    "stats.kruskal(group_0, group_1, group_2, group_3)\n",
    "# stats.kruskal(group_0, group_1, group_2, group_3, group_4)"
   ]
  },
  {
   "cell_type": "code",
   "execution_count": null,
   "id": "46c48e84",
   "metadata": {},
   "outputs": [],
   "source": [
    "rp.summary_cont(df_krusk['relativeClones'])\n",
    "\n",
    "rp.summary_cont(df_krusk['relativeClones'].groupby(df_krusk['k_means']))"
   ]
  },
  {
   "cell_type": "code",
   "execution_count": null,
   "id": "0853cebe",
   "metadata": {},
   "outputs": [],
   "source": [
    "group_low = pd.DataFrame.dropna(df_krusk.where(df_krusk['developerExperience'] == 'Low'))['relativeClones']\n",
    "group_med = pd.DataFrame.dropna(df_krusk.where(df_krusk['developerExperience'] == 'Medium'))['relativeClones']\n",
    "group_high = pd.DataFrame.dropna(df_krusk.where(df_krusk['developerExperience'] == 'High'))['relativeClones']\n",
    "\n",
    "stats.kruskal(group_low, group_med, group_high)"
   ]
  },
  {
   "cell_type": "code",
   "execution_count": null,
   "id": "240177ea",
   "metadata": {},
   "outputs": [],
   "source": [
    "import scikit_posthocs as sp\n",
    "\n",
    "all_groups = [group_low, group_med, group_high]\n",
    "sp.posthoc_dunn(all_groups, p_adjust = 'bonferroni')"
   ]
  },
  {
   "cell_type": "code",
   "execution_count": null,
   "id": "7955bafd",
   "metadata": {},
   "outputs": [],
   "source": [
    "all_groups_2 = [group_0, group_1, group_2, group_3]\n",
    "sp.posthoc_dunn(all_groups_2, p_adjust = 'bonferroni').round()"
   ]
  }
 ],
 "metadata": {
  "kernelspec": {
   "display_name": "Python 3 (ipykernel)",
   "language": "python",
   "name": "python3"
  },
  "language_info": {
   "codemirror_mode": {
    "name": "ipython",
    "version": 3
   },
   "file_extension": ".py",
   "mimetype": "text/x-python",
   "name": "python",
   "nbconvert_exporter": "python",
   "pygments_lexer": "ipython3",
   "version": "3.10.1"
  }
 },
 "nbformat": 4,
 "nbformat_minor": 5
}
